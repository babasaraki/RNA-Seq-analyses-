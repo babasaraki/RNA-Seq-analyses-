{
 "cells": [
  {
   "cell_type": "code",
   "execution_count": 7,
   "metadata": {},
   "outputs": [],
   "source": [
    "import seaborn as sns;\n",
    "import numpy as np\n",
    "import pandas as pd\n",
    "import matplotlib.pyplot as plt\n",
    "%matplotlib inline"
   ]
  },
  {
   "cell_type": "code",
   "execution_count": 8,
   "metadata": {},
   "outputs": [
    {
     "data": {
      "text/html": [
       "<div>\n",
       "<style scoped>\n",
       "    .dataframe tbody tr th:only-of-type {\n",
       "        vertical-align: middle;\n",
       "    }\n",
       "\n",
       "    .dataframe tbody tr th {\n",
       "        vertical-align: top;\n",
       "    }\n",
       "\n",
       "    .dataframe thead th {\n",
       "        text-align: right;\n",
       "    }\n",
       "</style>\n",
       "<table border=\"1\" class=\"dataframe\">\n",
       "  <thead>\n",
       "    <tr style=\"text-align: right;\">\n",
       "      <th></th>\n",
       "      <th>Experiment_group</th>\n",
       "      <th>Means of GFP+ cells (%)</th>\n",
       "      <th>Cell_lines</th>\n",
       "    </tr>\n",
       "  </thead>\n",
       "  <tbody>\n",
       "    <tr>\n",
       "      <th>0</th>\n",
       "      <td>Control</td>\n",
       "      <td>0.013</td>\n",
       "      <td>EJ28Pi</td>\n",
       "    </tr>\n",
       "    <tr>\n",
       "      <th>1</th>\n",
       "      <td>Control</td>\n",
       "      <td>0.025</td>\n",
       "      <td>EJ28Pi</td>\n",
       "    </tr>\n",
       "    <tr>\n",
       "      <th>2</th>\n",
       "      <td>Control</td>\n",
       "      <td>0.017</td>\n",
       "      <td>EJ28Pi</td>\n",
       "    </tr>\n",
       "    <tr>\n",
       "      <th>3</th>\n",
       "      <td>Control</td>\n",
       "      <td>0.010</td>\n",
       "      <td>TCCSUPPi</td>\n",
       "    </tr>\n",
       "    <tr>\n",
       "      <th>4</th>\n",
       "      <td>Control</td>\n",
       "      <td>0.020</td>\n",
       "      <td>TCCSUPPi</td>\n",
       "    </tr>\n",
       "    <tr>\n",
       "      <th>5</th>\n",
       "      <td>Control</td>\n",
       "      <td>0.050</td>\n",
       "      <td>TCCSUPPi</td>\n",
       "    </tr>\n",
       "    <tr>\n",
       "      <th>6</th>\n",
       "      <td>Passage 5</td>\n",
       "      <td>94.860</td>\n",
       "      <td>EJ28Pi</td>\n",
       "    </tr>\n",
       "    <tr>\n",
       "      <th>7</th>\n",
       "      <td>Passage 5</td>\n",
       "      <td>96.760</td>\n",
       "      <td>EJ28Pi</td>\n",
       "    </tr>\n",
       "    <tr>\n",
       "      <th>8</th>\n",
       "      <td>Passage 5</td>\n",
       "      <td>95.200</td>\n",
       "      <td>EJ28Pi</td>\n",
       "    </tr>\n",
       "    <tr>\n",
       "      <th>9</th>\n",
       "      <td>Passage 5</td>\n",
       "      <td>85.460</td>\n",
       "      <td>TCCSUPPi</td>\n",
       "    </tr>\n",
       "    <tr>\n",
       "      <th>10</th>\n",
       "      <td>Passage 5</td>\n",
       "      <td>86.310</td>\n",
       "      <td>TCCSUPPi</td>\n",
       "    </tr>\n",
       "    <tr>\n",
       "      <th>11</th>\n",
       "      <td>Passage 5</td>\n",
       "      <td>83.900</td>\n",
       "      <td>TCCSUPPi</td>\n",
       "    </tr>\n",
       "    <tr>\n",
       "      <th>12</th>\n",
       "      <td>Passage 10</td>\n",
       "      <td>94.980</td>\n",
       "      <td>EJ28Pi</td>\n",
       "    </tr>\n",
       "    <tr>\n",
       "      <th>13</th>\n",
       "      <td>Passage 10</td>\n",
       "      <td>95.800</td>\n",
       "      <td>EJ28Pi</td>\n",
       "    </tr>\n",
       "    <tr>\n",
       "      <th>14</th>\n",
       "      <td>Passage 10</td>\n",
       "      <td>97.100</td>\n",
       "      <td>EJ28Pi</td>\n",
       "    </tr>\n",
       "    <tr>\n",
       "      <th>15</th>\n",
       "      <td>Passage 10</td>\n",
       "      <td>84.660</td>\n",
       "      <td>TCCSUPPi</td>\n",
       "    </tr>\n",
       "    <tr>\n",
       "      <th>16</th>\n",
       "      <td>Passage 10</td>\n",
       "      <td>86.200</td>\n",
       "      <td>TCCSUPPi</td>\n",
       "    </tr>\n",
       "    <tr>\n",
       "      <th>17</th>\n",
       "      <td>Passage 10</td>\n",
       "      <td>83.900</td>\n",
       "      <td>TCCSUPPi</td>\n",
       "    </tr>\n",
       "    <tr>\n",
       "      <th>18</th>\n",
       "      <td>Passage 15</td>\n",
       "      <td>94.940</td>\n",
       "      <td>EJ28Pi</td>\n",
       "    </tr>\n",
       "    <tr>\n",
       "      <th>19</th>\n",
       "      <td>Passage 15</td>\n",
       "      <td>95.300</td>\n",
       "      <td>EJ28Pi</td>\n",
       "    </tr>\n",
       "    <tr>\n",
       "      <th>20</th>\n",
       "      <td>Passage 15</td>\n",
       "      <td>93.700</td>\n",
       "      <td>EJ28Pi</td>\n",
       "    </tr>\n",
       "    <tr>\n",
       "      <th>21</th>\n",
       "      <td>Passage 15</td>\n",
       "      <td>84.790</td>\n",
       "      <td>TCCSUPPi</td>\n",
       "    </tr>\n",
       "    <tr>\n",
       "      <th>22</th>\n",
       "      <td>Passage 15</td>\n",
       "      <td>85.800</td>\n",
       "      <td>TCCSUPPi</td>\n",
       "    </tr>\n",
       "    <tr>\n",
       "      <th>23</th>\n",
       "      <td>Passage 15</td>\n",
       "      <td>87.300</td>\n",
       "      <td>TCCSUPPi</td>\n",
       "    </tr>\n",
       "  </tbody>\n",
       "</table>\n",
       "</div>"
      ],
      "text/plain": [
       "   Experiment_group  Means of GFP+ cells (%) Cell_lines\n",
       "0           Control                    0.013     EJ28Pi\n",
       "1           Control                    0.025     EJ28Pi\n",
       "2           Control                    0.017     EJ28Pi\n",
       "3           Control                    0.010   TCCSUPPi\n",
       "4           Control                    0.020   TCCSUPPi\n",
       "5           Control                    0.050   TCCSUPPi\n",
       "6         Passage 5                   94.860     EJ28Pi\n",
       "7         Passage 5                   96.760     EJ28Pi\n",
       "8         Passage 5                   95.200     EJ28Pi\n",
       "9         Passage 5                   85.460   TCCSUPPi\n",
       "10        Passage 5                   86.310   TCCSUPPi\n",
       "11        Passage 5                   83.900   TCCSUPPi\n",
       "12       Passage 10                   94.980     EJ28Pi\n",
       "13       Passage 10                   95.800     EJ28Pi\n",
       "14       Passage 10                   97.100     EJ28Pi\n",
       "15       Passage 10                   84.660   TCCSUPPi\n",
       "16       Passage 10                   86.200   TCCSUPPi\n",
       "17       Passage 10                   83.900   TCCSUPPi\n",
       "18       Passage 15                   94.940     EJ28Pi\n",
       "19       Passage 15                   95.300     EJ28Pi\n",
       "20       Passage 15                   93.700     EJ28Pi\n",
       "21       Passage 15                   84.790   TCCSUPPi\n",
       "22       Passage 15                   85.800   TCCSUPPi\n",
       "23       Passage 15                   87.300   TCCSUPPi"
      ]
     },
     "execution_count": 8,
     "metadata": {},
     "output_type": "execute_result"
    }
   ],
   "source": [
    "df = pd.read_csv(\"Flowcyto.csv\")\n",
    "df"
   ]
  },
  {
   "cell_type": "code",
   "execution_count": 9,
   "metadata": {},
   "outputs": [
    {
     "data": {
      "text/plain": [
       "<matplotlib.axes._subplots.AxesSubplot at 0x7ff4702a3fd0>"
      ]
     },
     "execution_count": 9,
     "metadata": {},
     "output_type": "execute_result"
    },
    {
     "data": {
      "image/png": "[encoded data removed]",
      "text/plain": [
       "<Figure size 432x288 with 1 Axes>"
      ]
     },
     "metadata": {
      "needs_background": "light"
     },
     "output_type": "display_data"
    }
   ],
   "source": [
    "sns.barplot(x='Means of GFP+ cells (%)', y='Experiment_group', hue='Cell_lines',\n",
    "            palette=\"icefire\", capsize=0.1, data=df)"
   ]
  },
  {
   "cell_type": "code",
   "execution_count": 10,
   "metadata": {},
   "outputs": [
    {
     "data": {
      "image/png": "[encoded data removed]",
      "text/plain": [
       "<Figure size 432x288 with 1 Axes>"
      ]
     },
     "metadata": {
      "needs_background": "light"
     },
     "output_type": "display_data"
    }
   ],
   "source": [
    "sns.barplot(x='Means of GFP+ cells (%)', y='Experiment_group', hue='Cell_lines',\n",
    "            palette=\"icefire\", capsize=0.1, data=df)\n",
    "plt.savefig('Flowcyto.png', dpi=300)"
   ]
  },
  {
   "cell_type": "code",
   "execution_count": 14,
   "metadata": {},
   "outputs": [
    {
     "data": {
      "image/png": "[encoded data removed]",
      "text/plain": [
       "<Figure size 432x288 with 1 Axes>"
      ]
     },
     "metadata": {
      "needs_background": "light"
     },
     "output_type": "display_data"
    }
   ],
   "source": [
    "sns.barplot(x='Means of GFP+ cells (%)', y='Experiment_group', hue='Cell_lines',\n",
    "            palette=\"icefire\", capsize=0.1, data=df)\n",
    "plt.savefig('Flowcyto.pdf', bbox_inches='tight', pad_inches=0.1, dpi=300)"
   ]
  },
  {
   "cell_type": "code",
   "execution_count": null,
   "metadata": {},
   "outputs": [],
   "source": []
  }
 ],
 "metadata": {
  "kernelspec": {
   "display_name": "Python 3",
   "language": "python",
   "name": "python3"
  },
  "language_info": {
   "codemirror_mode": {
    "name": "ipython",
    "version": 3
   },
   "file_extension": ".py",
   "mimetype": "text/x-python",
   "name": "python",
   "nbconvert_exporter": "python",
   "pygments_lexer": "ipython3",
   "version": "3.7.4"
  }
 },
 "nbformat": 4,
 "nbformat_minor": 4
}
